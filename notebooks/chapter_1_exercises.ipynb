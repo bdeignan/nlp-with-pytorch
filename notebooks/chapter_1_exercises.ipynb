{
  "nbformat": 4,
  "nbformat_minor": 0,
  "metadata": {
    "colab": {
      "provenance": [],
      "authorship_tag": "ABX9TyNVgC1l0bgmWkJZOdQshzzJ",
      "include_colab_link": true
    },
    "kernelspec": {
      "name": "python3",
      "display_name": "Python 3"
    },
    "language_info": {
      "name": "python"
    }
  },
  "cells": [
    {
      "cell_type": "markdown",
      "metadata": {
        "id": "view-in-github",
        "colab_type": "text"
      },
      "source": [
        "<a href=\"https://colab.research.google.com/github/bdeignan/nlp-with-pytorch/blob/develop/notebooks/chapter_1_exercises.ipynb\" target=\"_parent\"><img src=\"https://colab.research.google.com/assets/colab-badge.svg\" alt=\"Open In Colab\"/></a>"
      ]
    },
    {
      "cell_type": "markdown",
      "source": [
        "# Chapter 1\n",
        "\n",
        "Representing language: BoW, tokenization, vector representations"
      ],
      "metadata": {
        "id": "9gIaIB-QrCoP"
      }
    },
    {
      "cell_type": "code",
      "source": [
        "import torch"
      ],
      "metadata": {
        "id": "VcVkLjyQqbgV"
      },
      "execution_count": 1,
      "outputs": []
    },
    {
      "cell_type": "code",
      "source": [
        "def describe(x):\n",
        "    print(\"Type: {}\".format(x.type()))\n",
        "    print(\"Shape/size: {}\".format(x.shape))\n",
        "    print(\"Values: \\n{}\".format(x))"
      ],
      "metadata": {
        "id": "B3evL6r3SqTH"
      },
      "execution_count": 2,
      "outputs": []
    },
    {
      "cell_type": "code",
      "source": [
        "x = torch.tensor([0])\n",
        "\n",
        "describe(x)"
      ],
      "metadata": {
        "colab": {
          "base_uri": "https://localhost:8080/"
        },
        "id": "MHd-h0B6rl2B",
        "outputId": "20cf2121-e6bd-40a4-b05a-829a0f5c447e"
      },
      "execution_count": 9,
      "outputs": [
        {
          "output_type": "stream",
          "name": "stdout",
          "text": [
            "Type: torch.LongTensor\n",
            "Shape/size: torch.Size([1])\n",
            "Values: \n",
            "tensor([0])\n"
          ]
        }
      ]
    },
    {
      "cell_type": "code",
      "source": [
        "describe(torch.tensor(0))"
      ],
      "metadata": {
        "colab": {
          "base_uri": "https://localhost:8080/"
        },
        "id": "zTIsmZTWrwsI",
        "outputId": "b8ef2bbb-4996-407f-8062-5697fb68f21b"
      },
      "execution_count": 10,
      "outputs": [
        {
          "output_type": "stream",
          "name": "stdout",
          "text": [
            "Type: torch.LongTensor\n",
            "Shape/size: torch.Size([])\n",
            "Values: \n",
            "0\n"
          ]
        }
      ]
    },
    {
      "cell_type": "code",
      "source": [
        "describe(torch.tensor([0, 1, 3]))"
      ],
      "metadata": {
        "colab": {
          "base_uri": "https://localhost:8080/"
        },
        "id": "7baAW7o9ukOh",
        "outputId": "acef64b8-2617-440a-d055-ae0ecabb6d06"
      },
      "execution_count": 11,
      "outputs": [
        {
          "output_type": "stream",
          "name": "stdout",
          "text": [
            "Type: torch.LongTensor\n",
            "Shape/size: torch.Size([3])\n",
            "Values: \n",
            "tensor([0, 1, 3])\n"
          ]
        }
      ]
    },
    {
      "cell_type": "code",
      "source": [
        "describe(torch.tensor([[0, 1, 3], [0, 1, 3]]))"
      ],
      "metadata": {
        "colab": {
          "base_uri": "https://localhost:8080/"
        },
        "id": "dwT4OcGNXZ8L",
        "outputId": "1d1e6c4d-ce68-43c8-8489-b593f4a7c5b9"
      },
      "execution_count": 13,
      "outputs": [
        {
          "output_type": "stream",
          "name": "stdout",
          "text": [
            "Type: torch.LongTensor\n",
            "Shape/size: torch.Size([2, 3])\n",
            "Values: \n",
            "tensor([[0, 1, 3],\n",
            "        [0, 1, 3]])\n"
          ]
        }
      ]
    },
    {
      "cell_type": "code",
      "source": [
        "describe(torch.rand(2, 3))   # uniform random\n",
        "describe(torch.randn(2, 3))  # random normal"
      ],
      "metadata": {
        "colab": {
          "base_uri": "https://localhost:8080/"
        },
        "id": "ZKCHYLnzXlB1",
        "outputId": "590d7805-7bbb-4b1d-e9f6-78ed8c16a8fe"
      },
      "execution_count": 14,
      "outputs": [
        {
          "output_type": "stream",
          "name": "stdout",
          "text": [
            "Type: torch.FloatTensor\n",
            "Shape/size: torch.Size([2, 3])\n",
            "Values: \n",
            "tensor([[0.5643, 0.7477, 0.9935],\n",
            "        [0.2316, 0.2510, 0.4650]])\n",
            "Type: torch.FloatTensor\n",
            "Shape/size: torch.Size([2, 3])\n",
            "Values: \n",
            "tensor([[-1.6094, -0.9449, -0.1904],\n",
            "        [ 0.5139,  0.7245,  0.4966]])\n"
          ]
        }
      ]
    },
    {
      "cell_type": "code",
      "source": [
        "describe(torch.zeros(2, 3))\n",
        "x = torch.ones(2, 3)\n",
        "describe(x)\n",
        "x.fill_(5)\n",
        "describe(x)"
      ],
      "metadata": {
        "colab": {
          "base_uri": "https://localhost:8080/"
        },
        "id": "sj5iWZZQX0X0",
        "outputId": "66ea2d2e-af35-410b-cb17-34f0dc488294"
      },
      "execution_count": 16,
      "outputs": [
        {
          "output_type": "stream",
          "name": "stdout",
          "text": [
            "Type: torch.FloatTensor\n",
            "Shape/size: torch.Size([2, 3])\n",
            "Values: \n",
            "tensor([[0., 0., 0.],\n",
            "        [0., 0., 0.]])\n",
            "Type: torch.FloatTensor\n",
            "Shape/size: torch.Size([2, 3])\n",
            "Values: \n",
            "tensor([[0., 0., 0.],\n",
            "        [0., 0., 0.]])\n",
            "Type: torch.FloatTensor\n",
            "Shape/size: torch.Size([2, 3])\n",
            "Values: \n",
            "tensor([[5., 5., 5.],\n",
            "        [5., 5., 5.]])\n"
          ]
        }
      ]
    },
    {
      "cell_type": "code",
      "source": [
        "x = torch.arange(6)\n",
        "describe(x)"
      ],
      "metadata": {
        "colab": {
          "base_uri": "https://localhost:8080/"
        },
        "id": "8Y6wsNKzX7OD",
        "outputId": "75fa49f3-339b-4e43-dc5b-ef2d7f7d92a4"
      },
      "execution_count": 17,
      "outputs": [
        {
          "output_type": "stream",
          "name": "stdout",
          "text": [
            "Type: torch.LongTensor\n",
            "Shape/size: torch.Size([6])\n",
            "Values: \n",
            "tensor([0, 1, 2, 3, 4, 5])\n"
          ]
        }
      ]
    },
    {
      "cell_type": "code",
      "source": [
        "x = x.view(2, 3)\n",
        "describe(x)"
      ],
      "metadata": {
        "colab": {
          "base_uri": "https://localhost:8080/"
        },
        "id": "D6hrZy6ZZGXO",
        "outputId": "1d11ed5c-5ef7-4c95-dac0-409ef844c91b"
      },
      "execution_count": 18,
      "outputs": [
        {
          "output_type": "stream",
          "name": "stdout",
          "text": [
            "Type: torch.LongTensor\n",
            "Shape/size: torch.Size([2, 3])\n",
            "Values: \n",
            "tensor([[0, 1, 2],\n",
            "        [3, 4, 5]])\n"
          ]
        }
      ]
    },
    {
      "cell_type": "markdown",
      "source": [
        "NOTE:\n",
        "\n",
        "how dim arg below changes which dimension gets summed. The dimension integer passed to `dim` is the dimension that you sum along. Therefore, the resulting tensor should just have that dimension (passed to `dim`) collapsed and all other dimensions still present."
      ],
      "metadata": {
        "id": "_lf3D93_ZW9L"
      }
    },
    {
      "cell_type": "code",
      "source": [
        "describe(torch.sum(x, dim=0))"
      ],
      "metadata": {
        "colab": {
          "base_uri": "https://localhost:8080/"
        },
        "id": "WUvmE0K6ZIsW",
        "outputId": "c99661ad-386d-4707-bd65-93f5c4bdbe60"
      },
      "execution_count": 19,
      "outputs": [
        {
          "output_type": "stream",
          "name": "stdout",
          "text": [
            "Type: torch.LongTensor\n",
            "Shape/size: torch.Size([3])\n",
            "Values: \n",
            "tensor([3, 5, 7])\n"
          ]
        }
      ]
    },
    {
      "cell_type": "code",
      "source": [
        "describe(torch.sum(x, dim=1))"
      ],
      "metadata": {
        "colab": {
          "base_uri": "https://localhost:8080/"
        },
        "id": "OKIuOdwMZP6P",
        "outputId": "b190ad4e-cd3a-4155-e77e-2f6d53653ed6"
      },
      "execution_count": 20,
      "outputs": [
        {
          "output_type": "stream",
          "name": "stdout",
          "text": [
            "Type: torch.LongTensor\n",
            "Shape/size: torch.Size([2])\n",
            "Values: \n",
            "tensor([ 3, 12])\n"
          ]
        }
      ]
    },
    {
      "cell_type": "code",
      "source": [
        "y = torch.rand(12)\n",
        "\n",
        "describe(y)"
      ],
      "metadata": {
        "colab": {
          "base_uri": "https://localhost:8080/"
        },
        "id": "-BXm302iZQ1I",
        "outputId": "d7c92db5-3fa1-4080-8bd7-bcdec3cb006c"
      },
      "execution_count": 21,
      "outputs": [
        {
          "output_type": "stream",
          "name": "stdout",
          "text": [
            "Type: torch.FloatTensor\n",
            "Shape/size: torch.Size([12])\n",
            "Values: \n",
            "tensor([0.6874, 0.0408, 0.5146, 0.3597, 0.7149, 0.8677, 0.0578, 0.8077, 0.1573,\n",
            "        0.5205, 0.9356, 0.0842])\n"
          ]
        }
      ]
    },
    {
      "cell_type": "code",
      "source": [
        "y = y.view(2,3,2)\n",
        "\n",
        "describe(y)"
      ],
      "metadata": {
        "colab": {
          "base_uri": "https://localhost:8080/"
        },
        "id": "6i8EHLDCaPlR",
        "outputId": "97f5e94b-7a27-4d93-88d0-b3b7ef784375"
      },
      "execution_count": 22,
      "outputs": [
        {
          "output_type": "stream",
          "name": "stdout",
          "text": [
            "Type: torch.FloatTensor\n",
            "Shape/size: torch.Size([2, 3, 2])\n",
            "Values: \n",
            "tensor([[[0.6874, 0.0408],\n",
            "         [0.5146, 0.3597],\n",
            "         [0.7149, 0.8677]],\n",
            "\n",
            "        [[0.0578, 0.8077],\n",
            "         [0.1573, 0.5205],\n",
            "         [0.9356, 0.0842]]])\n"
          ]
        }
      ]
    },
    {
      "cell_type": "markdown",
      "source": [
        "Guess what the resulting tensor dims should be below?"
      ],
      "metadata": {
        "id": "oT2NDi_IalGT"
      }
    },
    {
      "cell_type": "code",
      "source": [
        "describe(torch.sum(y, dim=0)) # 3, 2 (elementwise add 2 3x2 matrices)"
      ],
      "metadata": {
        "colab": {
          "base_uri": "https://localhost:8080/"
        },
        "id": "euXZBSiLaVZP",
        "outputId": "96818520-ebe8-4ca2-e286-60463023e25d"
      },
      "execution_count": 23,
      "outputs": [
        {
          "output_type": "stream",
          "name": "stdout",
          "text": [
            "Type: torch.FloatTensor\n",
            "Shape/size: torch.Size([3, 2])\n",
            "Values: \n",
            "tensor([[0.7452, 0.8485],\n",
            "        [0.6719, 0.8802],\n",
            "        [1.6505, 0.9519]])\n"
          ]
        }
      ]
    },
    {
      "cell_type": "code",
      "source": [
        "describe(torch.sum(y, dim=1)) # 2, 2 (sum \"cols\" in each of 2 matrices)"
      ],
      "metadata": {
        "colab": {
          "base_uri": "https://localhost:8080/"
        },
        "id": "zxaaCsOAad4f",
        "outputId": "3fb6728e-5241-4f94-fbb2-fdbc8b9d154b"
      },
      "execution_count": 24,
      "outputs": [
        {
          "output_type": "stream",
          "name": "stdout",
          "text": [
            "Type: torch.FloatTensor\n",
            "Shape/size: torch.Size([2, 2])\n",
            "Values: \n",
            "tensor([[1.9169, 1.2682],\n",
            "        [1.1507, 1.4124]])\n"
          ]
        }
      ]
    },
    {
      "cell_type": "code",
      "source": [
        "describe(torch.sum(y, dim=2)) # 2, 3 (sum elements sep by commas)"
      ],
      "metadata": {
        "colab": {
          "base_uri": "https://localhost:8080/"
        },
        "id": "SlwPAAUAaeFv",
        "outputId": "c69197e0-0837-4ff1-f387-7b7c7109bcd2"
      },
      "execution_count": 25,
      "outputs": [
        {
          "output_type": "stream",
          "name": "stdout",
          "text": [
            "Type: torch.FloatTensor\n",
            "Shape/size: torch.Size([2, 3])\n",
            "Values: \n",
            "tensor([[0.7282, 0.8743, 1.5826],\n",
            "        [0.8655, 0.6777, 1.0198]])\n"
          ]
        }
      ]
    },
    {
      "cell_type": "code",
      "source": [
        "0.6874 + 0.0578"
      ],
      "metadata": {
        "colab": {
          "base_uri": "https://localhost:8080/"
        },
        "id": "EG5t37qYazMJ",
        "outputId": "c5c847d3-8fb7-46a0-9576-ae4b040bd494"
      },
      "execution_count": 27,
      "outputs": [
        {
          "output_type": "execute_result",
          "data": {
            "text/plain": [
              "0.7452"
            ]
          },
          "metadata": {},
          "execution_count": 27
        }
      ]
    },
    {
      "cell_type": "code",
      "source": [
        "0.6874 + 0.0408"
      ],
      "metadata": {
        "colab": {
          "base_uri": "https://localhost:8080/"
        },
        "id": "s0Sc1x8_bNEI",
        "outputId": "c4ef7e3c-006e-493f-f3b8-df0a7c66cca3"
      },
      "execution_count": 28,
      "outputs": [
        {
          "output_type": "execute_result",
          "data": {
            "text/plain": [
              "0.7282"
            ]
          },
          "metadata": {},
          "execution_count": 28
        }
      ]
    },
    {
      "cell_type": "markdown",
      "source": [
        "## Indexing, slicing, joining"
      ],
      "metadata": {
        "id": "4OOrJ-XLdvHO"
      }
    },
    {
      "cell_type": "code",
      "source": [
        "x = torch.arange(6).view(2,3)\n",
        "describe(x)"
      ],
      "metadata": {
        "colab": {
          "base_uri": "https://localhost:8080/"
        },
        "id": "eYsvTqDecVUZ",
        "outputId": "09e0025b-5124-47e5-d068-c95984dca264"
      },
      "execution_count": 29,
      "outputs": [
        {
          "output_type": "stream",
          "name": "stdout",
          "text": [
            "Type: torch.LongTensor\n",
            "Shape/size: torch.Size([2, 3])\n",
            "Values: \n",
            "tensor([[0, 1, 2],\n",
            "        [3, 4, 5]])\n"
          ]
        }
      ]
    },
    {
      "cell_type": "code",
      "source": [
        "x[:1, :2]"
      ],
      "metadata": {
        "colab": {
          "base_uri": "https://localhost:8080/"
        },
        "id": "Lwt6zqpydy2u",
        "outputId": "25fe85f0-ffb4-40f9-e930-48f5fad9c988"
      },
      "execution_count": 30,
      "outputs": [
        {
          "output_type": "execute_result",
          "data": {
            "text/plain": [
              "tensor([[0, 1]])"
            ]
          },
          "metadata": {},
          "execution_count": 30
        }
      ]
    },
    {
      "cell_type": "code",
      "source": [
        "# grab 4 and 5\n",
        "x[1:, 1:]"
      ],
      "metadata": {
        "colab": {
          "base_uri": "https://localhost:8080/"
        },
        "id": "ttvubdjqd08K",
        "outputId": "0c48e69f-ab5e-443e-9ae0-ec0dc0924406"
      },
      "execution_count": 34,
      "outputs": [
        {
          "output_type": "execute_result",
          "data": {
            "text/plain": [
              "tensor([[4, 5]])"
            ]
          },
          "metadata": {},
          "execution_count": 34
        }
      ]
    },
    {
      "cell_type": "markdown",
      "source": [
        "Notice the difference of above to below:"
      ],
      "metadata": {
        "id": "y3T94ZZ7eGp5"
      }
    },
    {
      "cell_type": "code",
      "source": [
        "x[1, 1:] # index and slice"
      ],
      "metadata": {
        "colab": {
          "base_uri": "https://localhost:8080/"
        },
        "id": "ebBMuigjeBma",
        "outputId": "6dbd16a6-80db-4fa2-f920-f5a052122343"
      },
      "execution_count": 35,
      "outputs": [
        {
          "output_type": "execute_result",
          "data": {
            "text/plain": [
              "tensor([4, 5])"
            ]
          },
          "metadata": {},
          "execution_count": 35
        }
      ]
    },
    {
      "cell_type": "code",
      "source": [
        "# join\n",
        "torch.cat([x, x], dim=0)"
      ],
      "metadata": {
        "colab": {
          "base_uri": "https://localhost:8080/"
        },
        "id": "IjA-ogfDeL1g",
        "outputId": "528234ad-6375-4eea-c9b1-d1bb89e66475"
      },
      "execution_count": 37,
      "outputs": [
        {
          "output_type": "execute_result",
          "data": {
            "text/plain": [
              "tensor([[0, 1, 2],\n",
              "        [3, 4, 5],\n",
              "        [0, 1, 2],\n",
              "        [3, 4, 5]])"
            ]
          },
          "metadata": {},
          "execution_count": 37
        }
      ]
    },
    {
      "cell_type": "code",
      "source": [
        "torch.cat([x, x], dim=1)"
      ],
      "metadata": {
        "colab": {
          "base_uri": "https://localhost:8080/"
        },
        "id": "uWNQ_yLqeSI2",
        "outputId": "8c0ad7da-5c52-49ac-e1d1-1052a6657879"
      },
      "execution_count": 38,
      "outputs": [
        {
          "output_type": "execute_result",
          "data": {
            "text/plain": [
              "tensor([[0, 1, 2, 0, 1, 2],\n",
              "        [3, 4, 5, 3, 4, 5]])"
            ]
          },
          "metadata": {},
          "execution_count": 38
        }
      ]
    },
    {
      "cell_type": "code",
      "source": [
        "describe(torch.stack([x, x], dim=0))"
      ],
      "metadata": {
        "colab": {
          "base_uri": "https://localhost:8080/"
        },
        "id": "zZmusd7Rebvi",
        "outputId": "d9eff6e3-2534-4f79-d228-9d88aa691139"
      },
      "execution_count": 40,
      "outputs": [
        {
          "output_type": "stream",
          "name": "stdout",
          "text": [
            "Type: torch.LongTensor\n",
            "Shape/size: torch.Size([2, 2, 3])\n",
            "Values: \n",
            "tensor([[[0, 1, 2],\n",
            "         [3, 4, 5]],\n",
            "\n",
            "        [[0, 1, 2],\n",
            "         [3, 4, 5]]])\n"
          ]
        }
      ]
    },
    {
      "cell_type": "code",
      "source": [
        "describe(torch.stack([x, x], dim=1))"
      ],
      "metadata": {
        "colab": {
          "base_uri": "https://localhost:8080/"
        },
        "id": "Ndmlixl5eyCH",
        "outputId": "11d801dc-1363-4687-c258-1fc4735f19b6"
      },
      "execution_count": 41,
      "outputs": [
        {
          "output_type": "stream",
          "name": "stdout",
          "text": [
            "Type: torch.LongTensor\n",
            "Shape/size: torch.Size([2, 2, 3])\n",
            "Values: \n",
            "tensor([[[0, 1, 2],\n",
            "         [0, 1, 2]],\n",
            "\n",
            "        [[3, 4, 5],\n",
            "         [3, 4, 5]]])\n"
          ]
        }
      ]
    },
    {
      "cell_type": "code",
      "source": [
        "x1 = torch.arange(6).view(2, 3)\n",
        "\n",
        "x2 = torch.ones(3, 2)\n",
        "x2[:, 1] += 1 #broadcasting\n",
        "describe(x2)"
      ],
      "metadata": {
        "colab": {
          "base_uri": "https://localhost:8080/"
        },
        "id": "0eqicbN7fOu7",
        "outputId": "dd2eba0d-46ee-47df-8e21-fcae6f2834b7"
      },
      "execution_count": 43,
      "outputs": [
        {
          "output_type": "stream",
          "name": "stdout",
          "text": [
            "Type: torch.FloatTensor\n",
            "Shape/size: torch.Size([3, 2])\n",
            "Values: \n",
            "tensor([[1., 2.],\n",
            "        [1., 2.],\n",
            "        [1., 2.]])\n"
          ]
        }
      ]
    },
    {
      "cell_type": "code",
      "source": [
        "describe(x1)"
      ],
      "metadata": {
        "colab": {
          "base_uri": "https://localhost:8080/"
        },
        "id": "3-kgrxnbgJ9Z",
        "outputId": "5613de1e-3434-4a83-de17-db9f2d76e043"
      },
      "execution_count": 46,
      "outputs": [
        {
          "output_type": "stream",
          "name": "stdout",
          "text": [
            "Type: torch.LongTensor\n",
            "Shape/size: torch.Size([2, 3])\n",
            "Values: \n",
            "tensor([[0, 1, 2],\n",
            "        [3, 4, 5]])\n"
          ]
        }
      ]
    },
    {
      "cell_type": "code",
      "source": [
        "# matrix mult\n",
        "describe(torch.mm(x1.float(), x2))"
      ],
      "metadata": {
        "colab": {
          "base_uri": "https://localhost:8080/"
        },
        "id": "wgDNqAHTfnYE",
        "outputId": "721dfa59-1eb2-46e9-ee52-09718011c976"
      },
      "execution_count": 45,
      "outputs": [
        {
          "output_type": "stream",
          "name": "stdout",
          "text": [
            "Type: torch.FloatTensor\n",
            "Shape/size: torch.Size([2, 2])\n",
            "Values: \n",
            "tensor([[ 3.,  6.],\n",
            "        [12., 24.]])\n"
          ]
        }
      ]
    },
    {
      "cell_type": "code",
      "source": [
        "# gradient bookkeeping\n",
        "x = torch.ones(2, 2, requires_grad=True)\n",
        "describe(x)\n",
        "print(x.grad is None)"
      ],
      "metadata": {
        "colab": {
          "base_uri": "https://localhost:8080/"
        },
        "id": "58Dip8j9f6Ea",
        "outputId": "7327f0af-0b00-492d-f198-a6941553a60d"
      },
      "execution_count": 47,
      "outputs": [
        {
          "output_type": "stream",
          "name": "stdout",
          "text": [
            "Type: torch.FloatTensor\n",
            "Shape/size: torch.Size([2, 2])\n",
            "Values: \n",
            "tensor([[1., 1.],\n",
            "        [1., 1.]], requires_grad=True)\n",
            "True\n"
          ]
        }
      ]
    },
    {
      "cell_type": "code",
      "source": [
        "y = (x + 2) * (x + 5) + 3\n",
        "describe(y)\n",
        "print(x.grad is None)"
      ],
      "metadata": {
        "colab": {
          "base_uri": "https://localhost:8080/"
        },
        "id": "Hm8lZ7ghgrmT",
        "outputId": "30f8d90d-1254-43ab-c96e-b6fedd708efe"
      },
      "execution_count": 48,
      "outputs": [
        {
          "output_type": "stream",
          "name": "stdout",
          "text": [
            "Type: torch.FloatTensor\n",
            "Shape/size: torch.Size([2, 2])\n",
            "Values: \n",
            "tensor([[21., 21.],\n",
            "        [21., 21.]], grad_fn=<AddBackward0>)\n",
            "True\n"
          ]
        }
      ]
    },
    {
      "cell_type": "code",
      "source": [
        "z = y.mean()\n",
        "describe(z)\n",
        "z.backward()\n",
        "print(x.grad is None)"
      ],
      "metadata": {
        "colab": {
          "base_uri": "https://localhost:8080/"
        },
        "id": "2niNAHYXgzzz",
        "outputId": "f33ca7ee-51bf-4354-c329-f14889bf36d7"
      },
      "execution_count": 49,
      "outputs": [
        {
          "output_type": "stream",
          "name": "stdout",
          "text": [
            "Type: torch.FloatTensor\n",
            "Shape/size: torch.Size([])\n",
            "Values: \n",
            "21.0\n",
            "False\n"
          ]
        }
      ]
    },
    {
      "cell_type": "code",
      "source": [
        "x.grad"
      ],
      "metadata": {
        "colab": {
          "base_uri": "https://localhost:8080/"
        },
        "id": "IDlZWlweg5R8",
        "outputId": "83ba0ee3-e5a2-48a4-e991-d99e3d77a190"
      },
      "execution_count": 50,
      "outputs": [
        {
          "output_type": "execute_result",
          "data": {
            "text/plain": [
              "tensor([[2.2500, 2.2500],\n",
              "        [2.2500, 2.2500]])"
            ]
          },
          "metadata": {},
          "execution_count": 50
        }
      ]
    },
    {
      "cell_type": "code",
      "source": [
        "y.grad"
      ],
      "metadata": {
        "colab": {
          "base_uri": "https://localhost:8080/"
        },
        "id": "vZm6X5Zfg9Wj",
        "outputId": "31510922-0214-4f7b-f797-c1edb84d43bb"
      },
      "execution_count": 51,
      "outputs": [
        {
          "output_type": "stream",
          "name": "stderr",
          "text": [
            "<ipython-input-51-10b3a7061f6d>:1: UserWarning: The .grad attribute of a Tensor that is not a leaf Tensor is being accessed. Its .grad attribute won't be populated during autograd.backward(). If you indeed want the .grad field to be populated for a non-leaf Tensor, use .retain_grad() on the non-leaf Tensor. If you access the non-leaf Tensor by mistake, make sure you access the leaf Tensor instead. See github.com/pytorch/pytorch/pull/30531 for more informations. (Triggered internally at aten/src/ATen/core/TensorBody.h:489.)\n",
            "  y.grad\n"
          ]
        }
      ]
    },
    {
      "cell_type": "code",
      "source": [
        "# TODO: calculate by hand how to get x.grad above, 4 partial derivatives...\n"
      ],
      "metadata": {
        "id": "vy0cY1FHg_Vr"
      },
      "execution_count": 52,
      "outputs": []
    },
    {
      "cell_type": "markdown",
      "source": [
        "### CUDA\n",
        "\n",
        "Check if it's available"
      ],
      "metadata": {
        "id": "JTk8kxIZioFF"
      }
    },
    {
      "cell_type": "code",
      "source": [
        "print (torch.cuda.is_available())"
      ],
      "metadata": {
        "colab": {
          "base_uri": "https://localhost:8080/"
        },
        "id": "oxzLxyQmiTnz",
        "outputId": "4cc88c8b-d6fe-4a3c-b8de-7ac0313ac698"
      },
      "execution_count": 53,
      "outputs": [
        {
          "output_type": "stream",
          "name": "stdout",
          "text": [
            "False\n"
          ]
        }
      ]
    },
    {
      "cell_type": "code",
      "source": [],
      "metadata": {
        "id": "T7h4j2TBirL8"
      },
      "execution_count": null,
      "outputs": []
    },
    {
      "cell_type": "markdown",
      "source": [
        "## Exerices\n",
        "\n",
        "Create a 2D tensor and then add a dimension of size 1 inserted at dimension 0.\n",
        "\n",
        "Remove the extra dimension you just added to the previous tensor.\n",
        "\n",
        "Create a random tensor of shape 5x3 in the interval [3, 7)\n",
        "\n",
        "Create a tensor with values from a normal distribution (mean=0, std=1).\n",
        "\n",
        "Retrieve the indexes of all the nonzero elements in the tensor torch.Tensor([1, 1, 1, 0, 1]).\n",
        "\n",
        "Create a random tensor of size (3,1) and then horizontally stack four copies together.\n",
        "\n",
        "Return the batch matrix-matrix product of two three-dimensional matrices (a=torch.rand(3,4,5), b=torch.rand(3,5,4)).\n",
        "\n",
        "Return the batch matrix-matrix product of a 3D matrix and a 2D matrix (a=torch.rand(3,4,5), b=torch.rand(5,4))."
      ],
      "metadata": {
        "id": "VpL7v8A0jE3e"
      }
    },
    {
      "cell_type": "code",
      "source": [
        "# 1\n",
        "x = torch.arange(6).view(2,3)\n",
        "\n",
        "x.view(1, 2, 3)"
      ],
      "metadata": {
        "colab": {
          "base_uri": "https://localhost:8080/"
        },
        "id": "gfMceYBujGX2",
        "outputId": "d4073ceb-60db-4d18-89e7-7abd9bec286d"
      },
      "execution_count": 29,
      "outputs": [
        {
          "output_type": "execute_result",
          "data": {
            "text/plain": [
              "tensor([[[0, 1, 2],\n",
              "         [3, 4, 5]]])"
            ]
          },
          "metadata": {},
          "execution_count": 29
        }
      ]
    },
    {
      "cell_type": "code",
      "source": [
        "x.unsqueeze(0)\n"
      ],
      "metadata": {
        "colab": {
          "base_uri": "https://localhost:8080/"
        },
        "id": "R5jeDGOPyJ8u",
        "outputId": "144cf1e6-0f7f-4145-9b99-b4a97ad6d792"
      },
      "execution_count": 30,
      "outputs": [
        {
          "output_type": "execute_result",
          "data": {
            "text/plain": [
              "tensor([[[0, 1, 2],\n",
              "         [3, 4, 5]]])"
            ]
          },
          "metadata": {},
          "execution_count": 30
        }
      ]
    },
    {
      "cell_type": "code",
      "source": [
        "# 2\n",
        "x.view(1, 2, 3).view(2, 3)"
      ],
      "metadata": {
        "colab": {
          "base_uri": "https://localhost:8080/"
        },
        "id": "mgX0oSE9uyRO",
        "outputId": "7a423da4-9dd5-45a8-b997-2d538626df1b"
      },
      "execution_count": 5,
      "outputs": [
        {
          "output_type": "execute_result",
          "data": {
            "text/plain": [
              "tensor([[0, 1, 2],\n",
              "        [3, 4, 5]])"
            ]
          },
          "metadata": {},
          "execution_count": 5
        }
      ]
    },
    {
      "cell_type": "code",
      "source": [
        "x.unsqueeze(0).squeeze(0)"
      ],
      "metadata": {
        "colab": {
          "base_uri": "https://localhost:8080/"
        },
        "id": "BxTheX3_yRoS",
        "outputId": "180c5886-ba90-4237-c39c-2fb9e9c45005"
      },
      "execution_count": 31,
      "outputs": [
        {
          "output_type": "execute_result",
          "data": {
            "text/plain": [
              "tensor([[0, 1, 2],\n",
              "        [3, 4, 5]])"
            ]
          },
          "metadata": {},
          "execution_count": 31
        }
      ]
    },
    {
      "cell_type": "code",
      "source": [
        "# 3\n",
        "torch.randint(3,7, (5,3))"
      ],
      "metadata": {
        "colab": {
          "base_uri": "https://localhost:8080/"
        },
        "id": "hARr8EFZvBmS",
        "outputId": "e469d515-82be-4ab7-e1ad-57145bff3d6c"
      },
      "execution_count": 7,
      "outputs": [
        {
          "output_type": "execute_result",
          "data": {
            "text/plain": [
              "tensor([[5, 6, 6],\n",
              "        [3, 6, 4],\n",
              "        [3, 3, 5],\n",
              "        [3, 6, 3],\n",
              "        [6, 4, 6]])"
            ]
          },
          "metadata": {},
          "execution_count": 7
        }
      ]
    },
    {
      "cell_type": "code",
      "source": [
        "# 4\n",
        "\n",
        "torch.randn(9)"
      ],
      "metadata": {
        "colab": {
          "base_uri": "https://localhost:8080/"
        },
        "id": "VadOjqQ4vbxY",
        "outputId": "00dbc192-23b4-4b1c-d7b4-794c53465d1b"
      },
      "execution_count": 8,
      "outputs": [
        {
          "output_type": "execute_result",
          "data": {
            "text/plain": [
              "tensor([-0.2537, -0.9215,  0.9621,  1.2693,  0.5032,  0.0571, -0.8009,  1.0839,\n",
              "         1.5446])"
            ]
          },
          "metadata": {},
          "execution_count": 8
        }
      ]
    },
    {
      "cell_type": "code",
      "source": [
        "a = torch.rand(3, 3)\n",
        "\n",
        "a.normal_(0,1)"
      ],
      "metadata": {
        "colab": {
          "base_uri": "https://localhost:8080/"
        },
        "id": "vxMcRPmDyneW",
        "outputId": "c506150d-a888-4f7a-8e30-92bf361a16d1"
      },
      "execution_count": 36,
      "outputs": [
        {
          "output_type": "execute_result",
          "data": {
            "text/plain": [
              "tensor([[-0.9915,  0.2794, -0.6566],\n",
              "        [ 0.2720, -1.6217, -0.0867],\n",
              "        [ 0.0418,  1.3955,  0.2542]])"
            ]
          },
          "metadata": {},
          "execution_count": 36
        }
      ]
    },
    {
      "cell_type": "code",
      "source": [
        "# 5\n",
        "x = torch.Tensor([1, 1, 1, 0, 1])\n",
        "\n",
        "x.nonzero()"
      ],
      "metadata": {
        "colab": {
          "base_uri": "https://localhost:8080/"
        },
        "id": "OaH5pzeOvrh-",
        "outputId": "8e4578e3-51a9-4ae5-9575-4c408667ef10"
      },
      "execution_count": 15,
      "outputs": [
        {
          "output_type": "execute_result",
          "data": {
            "text/plain": [
              "tensor([[1.],\n",
              "        [1.],\n",
              "        [1.],\n",
              "        [1.]])"
            ]
          },
          "metadata": {},
          "execution_count": 15
        }
      ]
    },
    {
      "cell_type": "code",
      "source": [
        "# 6\n",
        "x = torch.rand(3,1)\n",
        "\n",
        "torch.stack([x]*4, dim=1).shape"
      ],
      "metadata": {
        "colab": {
          "base_uri": "https://localhost:8080/"
        },
        "id": "WgywaCQdwJyS",
        "outputId": "640bea91-7290-413a-eb26-efd888cdec7c"
      },
      "execution_count": 38,
      "outputs": [
        {
          "output_type": "execute_result",
          "data": {
            "text/plain": [
              "torch.Size([3, 4, 1])"
            ]
          },
          "metadata": {},
          "execution_count": 38
        }
      ]
    },
    {
      "cell_type": "code",
      "source": [
        "torch.stack([x]*4, dim=1)"
      ],
      "metadata": {
        "colab": {
          "base_uri": "https://localhost:8080/"
        },
        "id": "iGjIIaXyzaq4",
        "outputId": "6f592d26-eda8-4cf2-a498-3afa757a0124"
      },
      "execution_count": 39,
      "outputs": [
        {
          "output_type": "execute_result",
          "data": {
            "text/plain": [
              "tensor([[[0.3140],\n",
              "         [0.3140],\n",
              "         [0.3140],\n",
              "         [0.3140]],\n",
              "\n",
              "        [[0.5019],\n",
              "         [0.5019],\n",
              "         [0.5019],\n",
              "         [0.5019]],\n",
              "\n",
              "        [[0.0287],\n",
              "         [0.0287],\n",
              "         [0.0287],\n",
              "         [0.0287]]])"
            ]
          },
          "metadata": {},
          "execution_count": 39
        }
      ]
    },
    {
      "cell_type": "code",
      "source": [
        "x.expand(-1, 4)"
      ],
      "metadata": {
        "colab": {
          "base_uri": "https://localhost:8080/"
        },
        "id": "mDDsWarNzEjm",
        "outputId": "732a581e-6611-4a41-8875-fa375c2a15ac"
      },
      "execution_count": 40,
      "outputs": [
        {
          "output_type": "execute_result",
          "data": {
            "text/plain": [
              "tensor([[0.3140, 0.3140, 0.3140, 0.3140],\n",
              "        [0.5019, 0.5019, 0.5019, 0.5019],\n",
              "        [0.0287, 0.0287, 0.0287, 0.0287]])"
            ]
          },
          "metadata": {},
          "execution_count": 40
        }
      ]
    },
    {
      "cell_type": "code",
      "source": [
        "# book answer for 6\n",
        "a = torch.rand(3, 1)\n",
        "\n",
        "a.expand(3, 4).shape"
      ],
      "metadata": {
        "colab": {
          "base_uri": "https://localhost:8080/"
        },
        "id": "K2ZJL1AOy7UP",
        "outputId": "37e063c3-1695-4708-f059-5414bb49d96b"
      },
      "execution_count": 42,
      "outputs": [
        {
          "output_type": "execute_result",
          "data": {
            "text/plain": [
              "tensor([[0.3140, 0.3140, 0.3140, 0.3140],\n",
              "        [0.5019, 0.5019, 0.5019, 0.5019],\n",
              "        [0.0287, 0.0287, 0.0287, 0.0287]])"
            ]
          },
          "metadata": {},
          "execution_count": 42
        }
      ]
    },
    {
      "cell_type": "code",
      "source": [
        "# 7\n",
        "a=torch.rand(3,4,5)\n",
        "b=torch.rand(3,5,4)\n",
        "\n",
        "torch.bmm(a, b)"
      ],
      "metadata": {
        "colab": {
          "base_uri": "https://localhost:8080/"
        },
        "id": "H0Pv9m1dw8vi",
        "outputId": "4f46e591-3f15-4c6e-8f81-abb0f7b29329"
      },
      "execution_count": 24,
      "outputs": [
        {
          "output_type": "execute_result",
          "data": {
            "text/plain": [
              "tensor([[[1.0258, 1.1644, 0.9139, 0.7427],\n",
              "         [1.4088, 1.3895, 1.2815, 0.9656],\n",
              "         [1.5159, 2.1135, 1.3461, 1.5038],\n",
              "         [1.4555, 2.0858, 1.2585, 2.0362]],\n",
              "\n",
              "        [[0.6844, 0.6075, 0.9219, 1.0322],\n",
              "         [1.0880, 0.4310, 0.6882, 0.8882],\n",
              "         [1.3135, 0.4166, 1.1533, 1.2595],\n",
              "         [1.0065, 0.3419, 0.5405, 0.6975]],\n",
              "\n",
              "        [[1.5759, 1.0123, 1.1776, 0.5544],\n",
              "         [2.3901, 1.5973, 1.4732, 0.9060],\n",
              "         [1.4356, 0.6631, 0.9204, 0.2733],\n",
              "         [1.4036, 0.8689, 0.8653, 0.5686]]])"
            ]
          },
          "metadata": {},
          "execution_count": 24
        }
      ]
    },
    {
      "cell_type": "code",
      "source": [
        "a @ b"
      ],
      "metadata": {
        "colab": {
          "base_uri": "https://localhost:8080/"
        },
        "id": "EeiwZz8PxW4I",
        "outputId": "006c0103-88a1-4797-88a3-cc1a349a19ba"
      },
      "execution_count": 25,
      "outputs": [
        {
          "output_type": "execute_result",
          "data": {
            "text/plain": [
              "tensor([[[1.0258, 1.1644, 0.9139, 0.7427],\n",
              "         [1.4088, 1.3895, 1.2815, 0.9656],\n",
              "         [1.5159, 2.1135, 1.3461, 1.5038],\n",
              "         [1.4555, 2.0858, 1.2585, 2.0362]],\n",
              "\n",
              "        [[0.6844, 0.6075, 0.9219, 1.0322],\n",
              "         [1.0880, 0.4310, 0.6882, 0.8882],\n",
              "         [1.3135, 0.4166, 1.1533, 1.2595],\n",
              "         [1.0065, 0.3419, 0.5405, 0.6975]],\n",
              "\n",
              "        [[1.5759, 1.0123, 1.1776, 0.5544],\n",
              "         [2.3901, 1.5973, 1.4732, 0.9060],\n",
              "         [1.4356, 0.6631, 0.9204, 0.2733],\n",
              "         [1.4036, 0.8689, 0.8653, 0.5686]]])"
            ]
          },
          "metadata": {},
          "execution_count": 25
        }
      ]
    },
    {
      "cell_type": "code",
      "source": [
        "# 8\n",
        "a=torch.rand(3,4,5)\n",
        "b=torch.rand(5,4)\n",
        "\n",
        "a @ b"
      ],
      "metadata": {
        "colab": {
          "base_uri": "https://localhost:8080/"
        },
        "id": "6pDGD0tRxx4j",
        "outputId": "1d27903b-2289-49bb-ba71-770982d4f074"
      },
      "execution_count": 43,
      "outputs": [
        {
          "output_type": "execute_result",
          "data": {
            "text/plain": [
              "tensor([[[0.4511, 1.3815, 0.7712, 1.0730],\n",
              "         [0.8487, 1.3909, 1.3189, 1.5170],\n",
              "         [1.0298, 1.8820, 1.3994, 1.2546],\n",
              "         [0.2515, 0.8336, 0.5652, 0.9841]],\n",
              "\n",
              "        [[1.0597, 1.6672, 1.5299, 1.3734],\n",
              "         [1.2323, 1.2767, 1.8032, 1.5252],\n",
              "         [0.9006, 1.1483, 1.2168, 0.8981],\n",
              "         [0.5011, 1.7527, 0.7966, 1.1407]],\n",
              "\n",
              "        [[0.6718, 0.8191, 0.9845, 0.9435],\n",
              "         [0.7925, 1.0501, 1.1183, 0.8475],\n",
              "         [0.7715, 1.4530, 1.1483, 1.2123],\n",
              "         [1.0839, 1.8093, 1.7615, 1.9537]]])"
            ]
          },
          "metadata": {},
          "execution_count": 43
        }
      ]
    },
    {
      "cell_type": "code",
      "source": [
        "# completely missed this one in terms of the operation NOT result\n",
        "torch.bmm(a, b.unsqueeze(0).expand(a.size(0), *b.size()))"
      ],
      "metadata": {
        "colab": {
          "base_uri": "https://localhost:8080/"
        },
        "id": "a0W80mjvx7o1",
        "outputId": "22cb5dce-c068-4a08-eb1d-10b6c5f90cff"
      },
      "execution_count": 44,
      "outputs": [
        {
          "output_type": "execute_result",
          "data": {
            "text/plain": [
              "tensor([[[0.4511, 1.3815, 0.7712, 1.0730],\n",
              "         [0.8487, 1.3909, 1.3189, 1.5170],\n",
              "         [1.0298, 1.8820, 1.3994, 1.2546],\n",
              "         [0.2515, 0.8336, 0.5652, 0.9841]],\n",
              "\n",
              "        [[1.0597, 1.6672, 1.5299, 1.3734],\n",
              "         [1.2323, 1.2767, 1.8032, 1.5252],\n",
              "         [0.9006, 1.1483, 1.2168, 0.8981],\n",
              "         [0.5011, 1.7527, 0.7966, 1.1407]],\n",
              "\n",
              "        [[0.6718, 0.8191, 0.9845, 0.9435],\n",
              "         [0.7925, 1.0501, 1.1183, 0.8475],\n",
              "         [0.7715, 1.4530, 1.1483, 1.2123],\n",
              "         [1.0839, 1.8093, 1.7615, 1.9537]]])"
            ]
          },
          "metadata": {},
          "execution_count": 44
        }
      ]
    },
    {
      "cell_type": "code",
      "source": [
        "b"
      ],
      "metadata": {
        "colab": {
          "base_uri": "https://localhost:8080/"
        },
        "id": "doO6IpPOz_1x",
        "outputId": "56bd0cfd-d450-4eb8-bad2-fe7bc4decbcc"
      },
      "execution_count": 46,
      "outputs": [
        {
          "output_type": "execute_result",
          "data": {
            "text/plain": [
              "tensor([[0.6078, 0.1987, 0.7476, 0.1331],\n",
              "        [0.0172, 0.7491, 0.3195, 0.9480],\n",
              "        [0.6359, 0.7049, 0.9775, 0.9920],\n",
              "        [0.3063, 0.3924, 0.4412, 0.5589],\n",
              "        [0.1734, 0.9405, 0.1209, 0.0862]])"
            ]
          },
          "metadata": {},
          "execution_count": 46
        }
      ]
    },
    {
      "cell_type": "code",
      "source": [
        "b.unsqueeze(0).expand(a.size(0), *b.size())"
      ],
      "metadata": {
        "colab": {
          "base_uri": "https://localhost:8080/"
        },
        "id": "S3B-msw5zvuz",
        "outputId": "3f9eeee2-77fa-421e-b1d1-dc93fcf533fb"
      },
      "execution_count": 45,
      "outputs": [
        {
          "output_type": "execute_result",
          "data": {
            "text/plain": [
              "tensor([[[0.6078, 0.1987, 0.7476, 0.1331],\n",
              "         [0.0172, 0.7491, 0.3195, 0.9480],\n",
              "         [0.6359, 0.7049, 0.9775, 0.9920],\n",
              "         [0.3063, 0.3924, 0.4412, 0.5589],\n",
              "         [0.1734, 0.9405, 0.1209, 0.0862]],\n",
              "\n",
              "        [[0.6078, 0.1987, 0.7476, 0.1331],\n",
              "         [0.0172, 0.7491, 0.3195, 0.9480],\n",
              "         [0.6359, 0.7049, 0.9775, 0.9920],\n",
              "         [0.3063, 0.3924, 0.4412, 0.5589],\n",
              "         [0.1734, 0.9405, 0.1209, 0.0862]],\n",
              "\n",
              "        [[0.6078, 0.1987, 0.7476, 0.1331],\n",
              "         [0.0172, 0.7491, 0.3195, 0.9480],\n",
              "         [0.6359, 0.7049, 0.9775, 0.9920],\n",
              "         [0.3063, 0.3924, 0.4412, 0.5589],\n",
              "         [0.1734, 0.9405, 0.1209, 0.0862]]])"
            ]
          },
          "metadata": {},
          "execution_count": 45
        }
      ]
    },
    {
      "cell_type": "markdown",
      "source": [],
      "metadata": {
        "id": "wBlxbfpdz8cJ"
      }
    }
  ]
}